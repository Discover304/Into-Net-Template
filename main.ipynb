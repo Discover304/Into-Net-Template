{
 "cells": [
  {
   "cell_type": "markdown",
   "id": "e4bdde3e-595d-4e14-99a4-e829eec25952",
   "metadata": {},
   "source": [
    "# 主程序"
   ]
  }
 ],
 "metadata": {
  "kernelspec": {
   "display_name": "Python38ws",
   "language": "python",
   "name": "python38ws"
  },
  "language_info": {
   "codemirror_mode": {
    "name": "ipython",
    "version": 3
   },
   "file_extension": ".py",
   "mimetype": "text/x-python",
   "name": "python",
   "nbconvert_exporter": "python",
   "pygments_lexer": "ipython3",
   "version": "3.8.0"
  }
 },
 "nbformat": 4,
 "nbformat_minor": 5
}
